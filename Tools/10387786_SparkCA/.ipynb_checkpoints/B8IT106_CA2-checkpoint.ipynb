{
 "cells": [
  {
   "cell_type": "markdown",
   "metadata": {},
   "source": [
    "## Tools for Data Analytics CA2"
   ]
  },
  {
   "cell_type": "markdown",
   "metadata": {},
   "source": [
    "**Student:** Barry Sheppard\n",
    "**Student Number:** 10387786"
   ]
  },
  {
   "cell_type": "markdown",
   "metadata": {},
   "source": [
    "Do all of the below parts:\n",
    "\n",
    "**Part 1 (Spark)**\n",
    "\n",
    "*a) Install PySpark. Describe the difficulties you were facing during the installation and configuration.*"
   ]
  },
  {
   "cell_type": "markdown",
   "metadata": {},
   "source": [
    "Installing PySpark on OSX seems to have been more straightforward than for the Windows users. I used https://blog.sicara.com/get-started-pyspark-jupyter-guide-tutorial-ae2fe84f594f which was a helpful guide. Java 8 needed to be installed and the .bash_profile updated to have pyspark automatically load in Jupyter."
   ]
  },
  {
   "cell_type": "markdown",
   "metadata": {},
   "source": [
    "*b) Run spark notebook from the class (section Dataset API only) and modify it to conduct the analysis on a different dataset you like. At the beginning describe the dataset and the goal of your analysis. Write at least 10 different queries / commands using sql or dataframe APIs. Explain what each command / query does. After the analysis describe the insights.\n",
    "The comments and descriptions you can put directly in the notebook.\n",
    "Output : jupyter notebook or python file with comments.*"
   ]
  },
  {
   "cell_type": "markdown",
   "metadata": {},
   "source": [
    "For a bit of a fun dataset I'll be looking at the Pokemon dataset from Kaggle https://www.kaggle.com/rounakbanik/pokemon\n",
    "I've never actually played myself, but it will give me the opportunity to add some weird pictures to the analysis to keep things interesting."
   ]
  },
  {
   "cell_type": "code",
   "execution_count": 1,
   "metadata": {},
   "outputs": [
    {
     "data": {
      "text/html": [
       "\n",
       "        <div>\n",
       "            <p><b>SparkContext</b></p>\n",
       "\n",
       "            <p><a href=\"http://192.168.1.17:4040\">Spark UI</a></p>\n",
       "\n",
       "            <dl>\n",
       "              <dt>Version</dt>\n",
       "                <dd><code>v2.4.0</code></dd>\n",
       "              <dt>Master</dt>\n",
       "                <dd><code>local[*]</code></dd>\n",
       "              <dt>AppName</dt>\n",
       "                <dd><code>PySparkShell</code></dd>\n",
       "            </dl>\n",
       "        </div>\n",
       "        "
      ],
      "text/plain": [
       "<SparkContext master=local[*] appName=PySparkShell>"
      ]
     },
     "execution_count": 1,
     "metadata": {},
     "output_type": "execute_result"
    }
   ],
   "source": [
    "sc"
   ]
  },
  {
   "cell_type": "code",
   "execution_count": 2,
   "metadata": {},
   "outputs": [],
   "source": [
    "df = spark.read.csv(\"pokemon.csv\", inferSchema=True, header=True)"
   ]
  },
  {
   "cell_type": "code",
   "execution_count": 3,
   "metadata": {},
   "outputs": [
    {
     "data": {
      "text/plain": [
       "pyspark.sql.dataframe.DataFrame"
      ]
     },
     "execution_count": 3,
     "metadata": {},
     "output_type": "execute_result"
    }
   ],
   "source": [
    "type(df)"
   ]
  },
  {
   "cell_type": "code",
   "execution_count": 4,
   "metadata": {},
   "outputs": [
    {
     "data": {
      "text/plain": [
       "DataFrame[summary: string, abilities: string, against_bug: string, against_dark: string, against_dragon: string, against_electric: string, against_fairy: string, against_fight: string, against_fire: string, against_flying: string, against_ghost: string, against_grass: string, against_ground: string, against_ice: string, against_normal: string, against_poison: string, against_psychic: string, against_rock: string, against_steel: string, against_water: string, attack: string, base_egg_steps: string, base_happiness: string, base_total: string, capture_rate: string, classfication: string, defense: string, experience_growth: string, height_m: string, hp: string, japanese_name: string, name: string, percentage_male: string, pokedex_number: string, sp_attack: string, sp_defense: string, speed: string, type1: string, type2: string, weight_kg: string, generation: string, is_legendary: string]"
      ]
     },
     "execution_count": 4,
     "metadata": {},
     "output_type": "execute_result"
    }
   ],
   "source": [
    "df.describe()"
   ]
  },
  {
   "cell_type": "code",
   "execution_count": 5,
   "metadata": {},
   "outputs": [
    {
     "name": "stdout",
     "output_type": "stream",
     "text": [
      "+--------------------+-----------+------------+--------------+----------------+-------------+-------------+------------+--------------+-------------+-------------+--------------+-----------+--------------+--------------+---------------+------------+-------------+-------------+------+--------------+--------------+----------+------------+-------------------+-------+-----------------+--------+---+---------------------+----------+---------------+--------------+---------+----------+-----+------+------+---------+----------+------------+\n",
      "|           abilities|against_bug|against_dark|against_dragon|against_electric|against_fairy|against_fight|against_fire|against_flying|against_ghost|against_grass|against_ground|against_ice|against_normal|against_poison|against_psychic|against_rock|against_steel|against_water|attack|base_egg_steps|base_happiness|base_total|capture_rate|      classfication|defense|experience_growth|height_m| hp|        japanese_name|      name|percentage_male|pokedex_number|sp_attack|sp_defense|speed| type1| type2|weight_kg|generation|is_legendary|\n",
      "+--------------------+-----------+------------+--------------+----------------+-------------+-------------+------------+--------------+-------------+-------------+--------------+-----------+--------------+--------------+---------------+------------+-------------+-------------+------+--------------+--------------+----------+------------+-------------------+-------+-----------------+--------+---+---------------------+----------+---------------+--------------+---------+----------+-----+------+------+---------+----------+------------+\n",
      "|['Overgrow', 'Chl...|        1.0|         1.0|           1.0|             0.5|          0.5|          0.5|         2.0|           2.0|          1.0|         0.25|           1.0|        2.0|           1.0|           1.0|            2.0|         1.0|          1.0|          0.5|    49|          5120|            70|       318|          45|       Seed Pokémon|     49|          1059860|     0.7| 45|Fushigidaneフシギダネ| Bulbasaur|           88.1|             1|       65|        65|   45| grass|poison|      6.9|         1|           0|\n",
      "|['Overgrow', 'Chl...|        1.0|         1.0|           1.0|             0.5|          0.5|          0.5|         2.0|           2.0|          1.0|         0.25|           1.0|        2.0|           1.0|           1.0|            2.0|         1.0|          1.0|          0.5|    62|          5120|            70|       405|          45|       Seed Pokémon|     63|          1059860|     1.0| 60| Fushigisouフシギソウ|   Ivysaur|           88.1|             2|       80|        80|   60| grass|poison|     13.0|         1|           0|\n",
      "|['Overgrow', 'Chl...|        1.0|         1.0|           1.0|             0.5|          0.5|          0.5|         2.0|           2.0|          1.0|         0.25|           1.0|        2.0|           1.0|           1.0|            2.0|         1.0|          1.0|          0.5|   100|          5120|            70|       625|          45|       Seed Pokémon|    123|          1059860|     2.0| 80|Fushigibanaフシギバナ|  Venusaur|           88.1|             3|      122|       120|   80| grass|poison|    100.0|         1|           0|\n",
      "|['Blaze', 'Solar ...|        0.5|         1.0|           1.0|             1.0|          0.5|          1.0|         0.5|           1.0|          1.0|          0.5|           2.0|        0.5|           1.0|           1.0|            1.0|         2.0|          0.5|          2.0|    52|          5120|            70|       309|          45|     Lizard Pokémon|     43|          1059860|     0.6| 39|     Hitokageヒトカゲ|Charmander|           88.1|             4|       60|        50|   65|  fire|  null|      8.5|         1|           0|\n",
      "|['Blaze', 'Solar ...|        0.5|         1.0|           1.0|             1.0|          0.5|          1.0|         0.5|           1.0|          1.0|          0.5|           2.0|        0.5|           1.0|           1.0|            1.0|         2.0|          0.5|          2.0|    64|          5120|            70|       405|          45|      Flame Pokémon|     58|          1059860|     1.1| 58|      Lizardoリザード|Charmeleon|           88.1|             5|       80|        65|   80|  fire|  null|     19.0|         1|           0|\n",
      "|['Blaze', 'Solar ...|       0.25|         1.0|           1.0|             2.0|          0.5|          0.5|         0.5|           1.0|          1.0|         0.25|           0.0|        1.0|           1.0|           1.0|            1.0|         4.0|          0.5|          2.0|   104|          5120|            70|       634|          45|      Flame Pokémon|     78|          1059860|     1.7| 78|   Lizardonリザードン| Charizard|           88.1|             6|      159|       115|  100|  fire|flying|     90.5|         1|           0|\n",
      "|['Torrent', 'Rain...|        1.0|         1.0|           1.0|             2.0|          1.0|          1.0|         0.5|           1.0|          1.0|          2.0|           1.0|        0.5|           1.0|           1.0|            1.0|         1.0|          0.5|          0.5|    48|          5120|            70|       314|          45|Tiny Turtle Pokémon|     65|          1059860|     0.5| 44|     Zenigameゼニガメ|  Squirtle|           88.1|             7|       50|        64|   43| water|  null|      9.0|         1|           0|\n",
      "|['Torrent', 'Rain...|        1.0|         1.0|           1.0|             2.0|          1.0|          1.0|         0.5|           1.0|          1.0|          2.0|           1.0|        0.5|           1.0|           1.0|            1.0|         1.0|          0.5|          0.5|    63|          5120|            70|       405|          45|     Turtle Pokémon|     80|          1059860|     1.0| 59|       Kameilカメール| Wartortle|           88.1|             8|       65|        80|   58| water|  null|     22.5|         1|           0|\n",
      "|['Torrent', 'Rain...|        1.0|         1.0|           1.0|             2.0|          1.0|          1.0|         0.5|           1.0|          1.0|          2.0|           1.0|        0.5|           1.0|           1.0|            1.0|         1.0|          0.5|          0.5|   103|          5120|            70|       630|          45|  Shellfish Pokémon|    120|          1059860|     1.6| 79|      Kamexカメックス| Blastoise|           88.1|             9|      135|       115|   78| water|  null|     85.5|         1|           0|\n",
      "|['Shield Dust', '...|        1.0|         1.0|           1.0|             1.0|          1.0|          0.5|         2.0|           2.0|          1.0|          0.5|           0.5|        1.0|           1.0|           1.0|            1.0|         2.0|          1.0|          1.0|    30|          3840|            70|       195|         255|       Worm Pokémon|     35|          1000000|     0.3| 45|   Caterpieキャタピー|  Caterpie|           50.0|            10|       20|        20|   45|   bug|  null|      2.9|         1|           0|\n",
      "|       ['Shed Skin']|        1.0|         1.0|           1.0|             1.0|          1.0|          0.5|         2.0|           2.0|          1.0|          0.5|           0.5|        1.0|           1.0|           1.0|            1.0|         2.0|          1.0|          1.0|    20|          3840|            70|       205|         120|     Cocoon Pokémon|     55|          1000000|     0.7| 50|    Transelトランセル|   Metapod|           50.0|            11|       25|        25|   30|   bug|  null|      9.9|         1|           0|\n",
      "|['Compoundeyes', ...|        0.5|         1.0|           1.0|             2.0|          1.0|         0.25|         2.0|           2.0|          1.0|         0.25|           0.0|        2.0|           1.0|           1.0|            1.0|         4.0|          1.0|          1.0|    45|          3840|            70|       395|          45|  Butterfly Pokémon|     50|          1000000|     1.1| 60| Butterfreeバタフリー|Butterfree|           50.0|            12|       90|        80|   70|   bug|flying|     32.0|         1|           0|\n",
      "|['Shield Dust', '...|        0.5|         1.0|           1.0|             1.0|          0.5|         0.25|         2.0|           2.0|          1.0|         0.25|           1.0|        1.0|           1.0|           0.5|            2.0|         2.0|          1.0|          1.0|    35|          3840|            70|       195|         255|      Hairy Pokémon|     30|          1000000|     0.3| 40|       Beedleビードル|    Weedle|           50.0|            13|       20|        20|   50|   bug|poison|      3.2|         1|           0|\n",
      "|       ['Shed Skin']|        0.5|         1.0|           1.0|             1.0|          0.5|         0.25|         2.0|           2.0|          1.0|         0.25|           1.0|        1.0|           1.0|           0.5|            2.0|         2.0|          1.0|          1.0|    25|          3840|            70|       205|         120|     Cocoon Pokémon|     50|          1000000|     0.6| 45|       Cocoonコクーン|    Kakuna|           50.0|            14|       25|        25|   35|   bug|poison|     10.0|         1|           0|\n",
      "| ['Swarm', 'Sniper']|        0.5|         1.0|           1.0|             1.0|          0.5|         0.25|         2.0|           2.0|          1.0|         0.25|           1.0|        1.0|           1.0|           0.5|            2.0|         2.0|          1.0|          1.0|   150|          3840|            70|       495|          45| Poison Bee Pokémon|     40|          1000000|     1.0| 65|        Spearスピアー|  Beedrill|           50.0|            15|       15|        80|  145|   bug|poison|     29.5|         1|           0|\n",
      "|['Keen Eye', 'Tan...|        0.5|         1.0|           1.0|             2.0|          1.0|          1.0|         1.0|           1.0|          0.0|          0.5|           0.0|        2.0|           1.0|           1.0|            1.0|         2.0|          1.0|          1.0|    45|          3840|            70|       251|         255|  Tiny Bird Pokémon|     40|          1059860|     0.3| 40|          Poppoポッポ|    Pidgey|           50.0|            16|       35|        35|   56|normal|flying|      1.8|         1|           0|\n",
      "|['Keen Eye', 'Tan...|        0.5|         1.0|           1.0|             2.0|          1.0|          1.0|         1.0|           1.0|          0.0|          0.5|           0.0|        2.0|           1.0|           1.0|            1.0|         2.0|          1.0|          1.0|    60|          3840|            70|       349|         120|       Bird Pokémon|     55|          1059860|     1.1| 63|       Pigeonピジョン| Pidgeotto|           50.0|            17|       50|        50|   71|normal|flying|     30.0|         1|           0|\n",
      "|['Keen Eye', 'Tan...|        0.5|         1.0|           1.0|             2.0|          1.0|          1.0|         1.0|           1.0|          0.0|          0.5|           0.0|        2.0|           1.0|           1.0|            1.0|         2.0|          1.0|          1.0|    80|          3840|            70|       579|          45|       Bird Pokémon|     80|          1059860|     1.5| 83|     Pigeotピジョット|   Pidgeot|           50.0|            18|      135|        80|  121|normal|flying|     39.5|         1|           0|\n",
      "|['Run Away', 'Gut...|        1.0|         1.0|           1.0|             1.0|          1.0|          2.0|         1.0|           1.0|          0.0|          1.0|           1.0|        1.0|           1.0|           1.0|            1.0|         1.0|          1.0|          1.0|    56|          3840|            70|       253|         255|      Mouse Pokémon|     35|          1000000|    null| 30|      Korattaコラッタ|   Rattata|           50.0|            19|       25|        35|   72|normal|  dark|     null|         1|           0|\n",
      "|['Run Away', 'Gut...|        1.0|         1.0|           1.0|             1.0|          1.0|          2.0|         1.0|           1.0|          0.0|          1.0|           1.0|        1.0|           1.0|           1.0|            1.0|         1.0|          1.0|          1.0|    71|          3840|            70|       413|         127|      Mouse Pokémon|     70|          1000000|    null| 75|          Rattaラッタ|  Raticate|           50.0|            20|       40|        80|   77|normal|  dark|     null|         1|           0|\n",
      "+--------------------+-----------+------------+--------------+----------------+-------------+-------------+------------+--------------+-------------+-------------+--------------+-----------+--------------+--------------+---------------+------------+-------------+-------------+------+--------------+--------------+----------+------------+-------------------+-------+-----------------+--------+---+---------------------+----------+---------------+--------------+---------+----------+-----+------+------+---------+----------+------------+\n",
      "only showing top 20 rows\n",
      "\n"
     ]
    }
   ],
   "source": [
    "df.show()"
   ]
  },
  {
   "cell_type": "code",
   "execution_count": 6,
   "metadata": {},
   "outputs": [
    {
     "name": "stdout",
     "output_type": "stream",
     "text": [
      "root\n",
      " |-- abilities: string (nullable = true)\n",
      " |-- against_bug: double (nullable = true)\n",
      " |-- against_dark: double (nullable = true)\n",
      " |-- against_dragon: double (nullable = true)\n",
      " |-- against_electric: double (nullable = true)\n",
      " |-- against_fairy: double (nullable = true)\n",
      " |-- against_fight: double (nullable = true)\n",
      " |-- against_fire: double (nullable = true)\n",
      " |-- against_flying: double (nullable = true)\n",
      " |-- against_ghost: double (nullable = true)\n",
      " |-- against_grass: double (nullable = true)\n",
      " |-- against_ground: double (nullable = true)\n",
      " |-- against_ice: double (nullable = true)\n",
      " |-- against_normal: double (nullable = true)\n",
      " |-- against_poison: double (nullable = true)\n",
      " |-- against_psychic: double (nullable = true)\n",
      " |-- against_rock: double (nullable = true)\n",
      " |-- against_steel: double (nullable = true)\n",
      " |-- against_water: double (nullable = true)\n",
      " |-- attack: integer (nullable = true)\n",
      " |-- base_egg_steps: integer (nullable = true)\n",
      " |-- base_happiness: integer (nullable = true)\n",
      " |-- base_total: integer (nullable = true)\n",
      " |-- capture_rate: string (nullable = true)\n",
      " |-- classfication: string (nullable = true)\n",
      " |-- defense: integer (nullable = true)\n",
      " |-- experience_growth: integer (nullable = true)\n",
      " |-- height_m: double (nullable = true)\n",
      " |-- hp: integer (nullable = true)\n",
      " |-- japanese_name: string (nullable = true)\n",
      " |-- name: string (nullable = true)\n",
      " |-- percentage_male: double (nullable = true)\n",
      " |-- pokedex_number: integer (nullable = true)\n",
      " |-- sp_attack: integer (nullable = true)\n",
      " |-- sp_defense: integer (nullable = true)\n",
      " |-- speed: integer (nullable = true)\n",
      " |-- type1: string (nullable = true)\n",
      " |-- type2: string (nullable = true)\n",
      " |-- weight_kg: double (nullable = true)\n",
      " |-- generation: integer (nullable = true)\n",
      " |-- is_legendary: integer (nullable = true)\n",
      "\n"
     ]
    }
   ],
   "source": [
    "df.printSchema()"
   ]
  },
  {
   "cell_type": "code",
   "execution_count": 7,
   "metadata": {},
   "outputs": [
    {
     "data": {
      "text/plain": [
       "801"
      ]
     },
     "execution_count": 7,
     "metadata": {},
     "output_type": "execute_result"
    }
   ],
   "source": [
    "df.count()"
   ]
  },
  {
   "cell_type": "code",
   "execution_count": 8,
   "metadata": {},
   "outputs": [
    {
     "name": "stdout",
     "output_type": "stream",
     "text": [
      "+-------+------------------+\n",
      "|summary|                hp|\n",
      "+-------+------------------+\n",
      "|  count|               801|\n",
      "|   mean| 68.95880149812734|\n",
      "| stddev|26.576014572576504|\n",
      "|    min|                 1|\n",
      "|    max|               255|\n",
      "+-------+------------------+\n",
      "\n"
     ]
    }
   ],
   "source": [
    "df.describe('hp').show()"
   ]
  },
  {
   "cell_type": "code",
   "execution_count": 9,
   "metadata": {},
   "outputs": [],
   "source": [
    "df.registerTempTable('df_')"
   ]
  },
  {
   "cell_type": "code",
   "execution_count": 10,
   "metadata": {},
   "outputs": [
    {
     "name": "stdout",
     "output_type": "stream",
     "text": [
      "+----------+---+------+-------+-------------------+\n",
      "|      name| hp|attack|defense|      classfication|\n",
      "+----------+---+------+-------+-------------------+\n",
      "| Bulbasaur| 45|    49|     49|       Seed Pokémon|\n",
      "|   Ivysaur| 60|    62|     63|       Seed Pokémon|\n",
      "|  Venusaur| 80|   100|    123|       Seed Pokémon|\n",
      "|Charmander| 39|    52|     43|     Lizard Pokémon|\n",
      "|Charmeleon| 58|    64|     58|      Flame Pokémon|\n",
      "| Charizard| 78|   104|     78|      Flame Pokémon|\n",
      "|  Squirtle| 44|    48|     65|Tiny Turtle Pokémon|\n",
      "| Wartortle| 59|    63|     80|     Turtle Pokémon|\n",
      "| Blastoise| 79|   103|    120|  Shellfish Pokémon|\n",
      "|  Caterpie| 45|    30|     35|       Worm Pokémon|\n",
      "+----------+---+------+-------+-------------------+\n",
      "only showing top 10 rows\n",
      "\n"
     ]
    }
   ],
   "source": [
    "sqlContext.sql('select name, hp, attack, defense, classfication from df_').show(10)"
   ]
  },
  {
   "cell_type": "markdown",
   "metadata": {},
   "source": [
    "### 1. What Pokemon has the most health?"
   ]
  },
  {
   "cell_type": "code",
   "execution_count": 11,
   "metadata": {},
   "outputs": [
    {
     "name": "stdout",
     "output_type": "stream",
     "text": [
      "+---------+---+\n",
      "|     name| hp|\n",
      "+---------+---+\n",
      "|  Blissey|255|\n",
      "|  Chansey|250|\n",
      "| Guzzlord|223|\n",
      "|  Zygarde|216|\n",
      "|Wobbuffet|190|\n",
      "+---------+---+\n",
      "only showing top 5 rows\n",
      "\n"
     ]
    }
   ],
   "source": [
    "sqlContext.sql('select name, hp from df_ order by hp desc').show(5)"
   ]
  },
  {
   "cell_type": "markdown",
   "metadata": {},
   "source": [
    "![alt text](images/Blissey.png \"Blissey\")"
   ]
  },
  {
   "cell_type": "markdown",
   "metadata": {},
   "source": [
    "### 2. How many Flame Pokemon are there?"
   ]
  },
  {
   "cell_type": "code",
   "execution_count": 12,
   "metadata": {},
   "outputs": [
    {
     "name": "stdout",
     "output_type": "stream",
     "text": [
      "+----------+-------------+\n",
      "|      name|classfication|\n",
      "+----------+-------------+\n",
      "|Charmeleon|Flame Pokémon|\n",
      "| Charizard|Flame Pokémon|\n",
      "|   Flareon|Flame Pokémon|\n",
      "|   Moltres|Flame Pokémon|\n",
      "| Infernape|Flame Pokémon|\n",
      "+----------+-------------+\n",
      "\n"
     ]
    }
   ],
   "source": [
    "sqlContext.sql('SELECT name, classfication FROM df_ WHERE classfication = \\'Flame Pokémon\\'').show(100)"
   ]
  },
  {
   "cell_type": "markdown",
   "metadata": {},
   "source": [
    "So just 5 are Flame Pokémon."
   ]
  },
  {
   "cell_type": "markdown",
   "metadata": {},
   "source": [
    "![alt text](images/Charmeleon.png \"Charmeleon\")"
   ]
  },
  {
   "cell_type": "markdown",
   "metadata": {},
   "source": [
    "### 3. What is Pokemon is Pikachu weakest to?"
   ]
  },
  {
   "cell_type": "code",
   "execution_count": 13,
   "metadata": {},
   "outputs": [
    {
     "name": "stdout",
     "output_type": "stream",
     "text": [
      "+-------------+-------+---+----------+----------------+-----------+\n",
      "|classfication|defense| hp|sp_defense|against_electric|against_bug|\n",
      "+-------------+-------+---+----------+----------------+-----------+\n",
      "|Mouse Pokémon|     40| 35|        50|             0.5|        1.0|\n",
      "+-------------+-------+---+----------+----------------+-----------+\n",
      "\n"
     ]
    }
   ],
   "source": [
    "sqlContext.sql('SELECT classfication, defense, hp, sp_defense, against_electric, against_bug FROM df_ WHERE name = \\'Pikachu\\'').show(5)"
   ]
  },
  {
   "cell_type": "code",
   "execution_count": 14,
   "metadata": {},
   "outputs": [
    {
     "name": "stdout",
     "output_type": "stream",
     "text": [
      "+--------------+-------------+-------------+------------+--------------+-------------+\n",
      "|against_dragon|against_fairy|against_fight|against_fire|against_flying|against_ghost|\n",
      "+--------------+-------------+-------------+------------+--------------+-------------+\n",
      "|           1.0|          1.0|          1.0|         1.0|           0.5|          1.0|\n",
      "+--------------+-------------+-------------+------------+--------------+-------------+\n",
      "\n"
     ]
    }
   ],
   "source": [
    "sqlContext.sql('SELECT against_dragon, against_fairy, against_fight, against_fire, against_flying, against_ghost FROM df_ WHERE name = \\'Pikachu\\'').show(5)"
   ]
  },
  {
   "cell_type": "code",
   "execution_count": 15,
   "metadata": {},
   "outputs": [
    {
     "name": "stdout",
     "output_type": "stream",
     "text": [
      "+-------------+--------------+-----------+--------------+--------------+---------------+\n",
      "|against_grass|against_ground|against_ice|against_normal|against_poison|against_psychic|\n",
      "+-------------+--------------+-----------+--------------+--------------+---------------+\n",
      "|          1.0|           2.0|        1.0|           1.0|           1.0|            1.0|\n",
      "+-------------+--------------+-----------+--------------+--------------+---------------+\n",
      "\n"
     ]
    }
   ],
   "source": [
    "sqlContext.sql('SELECT against_grass, against_ground, against_ice, against_normal, against_poison, against_psychic FROM df_ WHERE name = \\'Pikachu\\'').show(5)"
   ]
  },
  {
   "cell_type": "code",
   "execution_count": 16,
   "metadata": {},
   "outputs": [
    {
     "name": "stdout",
     "output_type": "stream",
     "text": [
      "+------------+-------------+-------------+\n",
      "|against_rock|against_steel|against_water|\n",
      "+------------+-------------+-------------+\n",
      "|         1.0|          0.5|          1.0|\n",
      "+------------+-------------+-------------+\n",
      "\n"
     ]
    }
   ],
   "source": [
    "sqlContext.sql('SELECT against_rock, against_steel, against_water FROM df_ WHERE name = \\'Pikachu\\'').show(5)"
   ]
  },
  {
   "cell_type": "markdown",
   "metadata": {},
   "source": [
    "So Pikachu is weakest against_ground and takes double damage against it. Let's see what Pokémon we can find with a ground attack type"
   ]
  },
  {
   "cell_type": "code",
   "execution_count": 17,
   "metadata": {},
   "outputs": [
    {
     "name": "stdout",
     "output_type": "stream",
     "text": [
      "+---------+------+------+------+\n",
      "|     name| type1| type2|attack|\n",
      "+---------+------+------+------+\n",
      "|  Groudon|ground|  null|   180|\n",
      "| Garchomp|dragon|ground|   170|\n",
      "| Swampert| water|ground|   150|\n",
      "| Landorus|ground|flying|   145|\n",
      "|Rhyperior|ground|  rock|   140|\n",
      "+---------+------+------+------+\n",
      "only showing top 5 rows\n",
      "\n"
     ]
    }
   ],
   "source": [
    "sqlContext.sql('SELECT name, type1, type2, attack FROM df_ WHERE type1=\\'ground\\' OR type2=\\'ground\\' ORDER BY attack DESC').show(5)"
   ]
  },
  {
   "cell_type": "markdown",
   "metadata": {},
   "source": [
    "Obviously there are lots of super powerful Pokémon, lets limit it to generation 1 and non-legendary pokemon only."
   ]
  },
  {
   "cell_type": "code",
   "execution_count": 18,
   "metadata": {},
   "outputs": [
    {
     "name": "stdout",
     "output_type": "stream",
     "text": [
      "+---------+------+------+------+\n",
      "|     name| type1| type2|attack|\n",
      "+---------+------+------+------+\n",
      "|  Groudon|ground|  null|   180|\n",
      "| Landorus|ground|flying|   145|\n",
      "|Rhyperior|ground|  rock|   140|\n",
      "|Excadrill|ground| steel|   135|\n",
      "|   Rhydon|ground|  rock|   130|\n",
      "+---------+------+------+------+\n",
      "only showing top 5 rows\n",
      "\n"
     ]
    }
   ],
   "source": [
    "sqlContext.sql('SELECT name, type1, type2, attack FROM df_ WHERE type1=\\'ground\\' OR type2=\\'ground\\' AND generation=1 AND is_legendary=0 ORDER BY attack DESC').show(5)"
   ]
  },
  {
   "cell_type": "markdown",
   "metadata": {},
   "source": [
    "So we still have Groudon. It is probably way overpowered but does look to be the most dangerous Pokémon that Pikachu could face."
   ]
  },
  {
   "cell_type": "markdown",
   "metadata": {},
   "source": [
    "![alt text](images/Groudon.png \"Groudon\")"
   ]
  },
  {
   "cell_type": "markdown",
   "metadata": {},
   "source": [
    "### 4. Will Pikachu find love?"
   ]
  },
  {
   "cell_type": "markdown",
   "metadata": {},
   "source": [
    "Pikachu is both a specific Pokémon as well as a type. We know the character is male, but is that type of Pokémon always male or can their be females?"
   ]
  },
  {
   "cell_type": "code",
   "execution_count": 19,
   "metadata": {},
   "outputs": [
    {
     "name": "stdout",
     "output_type": "stream",
     "text": [
      "+-------+-------------+---------------+\n",
      "|   name|classfication|percentage_male|\n",
      "+-------+-------------+---------------+\n",
      "|Pikachu|Mouse Pokémon|           50.0|\n",
      "+-------+-------------+---------------+\n",
      "\n"
     ]
    }
   ],
   "source": [
    "sqlContext.sql('SELECT name, classfication, percentage_male FROM df_ WHERE name = \\'Pikachu\\'').show(5)"
   ]
  },
  {
   "cell_type": "markdown",
   "metadata": {},
   "source": [
    "So everytime they find a new Pikchu Pokémon there is a 50% chance it will be a female!"
   ]
  },
  {
   "cell_type": "markdown",
   "metadata": {},
   "source": [
    "![alt text](images/Pikachu.png \"Pikachu\")"
   ]
  },
  {
   "cell_type": "markdown",
   "metadata": {},
   "source": [
    "### 5. How many Pokémon are in each generation?"
   ]
  },
  {
   "cell_type": "code",
   "execution_count": 20,
   "metadata": {},
   "outputs": [
    {
     "name": "stdout",
     "output_type": "stream",
     "text": [
      "+----------+-----------+\n",
      "|generation|count(name)|\n",
      "+----------+-----------+\n",
      "|         1|        151|\n",
      "|         2|        100|\n",
      "|         3|        135|\n",
      "|         4|        107|\n",
      "|         5|        156|\n",
      "|         6|         72|\n",
      "|         7|         80|\n",
      "+----------+-----------+\n",
      "\n"
     ]
    }
   ],
   "source": [
    "sqlContext.sql('SELECT generation, COUNT(name) FROM df_ GROUP BY generation ORDER BY generation').show(10)"
   ]
  },
  {
   "cell_type": "markdown",
   "metadata": {},
   "source": [
    "So the most Pokémon came out in the fifth and then first generation. The 6th and 7th generations had the least, maybe they were running out of ideas?"
   ]
  },
  {
   "cell_type": "markdown",
   "metadata": {},
   "source": [
    "### 6. Were later generations more powerful?"
   ]
  },
  {
   "cell_type": "markdown",
   "metadata": {},
   "source": [
    "Often companies will release more desireable products as time goes on to encourage people to buy more. Did this happen with Pokemon? Lets look at some of the average stats for each generation."
   ]
  },
  {
   "cell_type": "code",
   "execution_count": 21,
   "metadata": {},
   "outputs": [
    {
     "name": "stdout",
     "output_type": "stream",
     "text": [
      "+----------+----+----+----+\n",
      "|generation|  HP| Att| Def|\n",
      "+----------+----+----+----+\n",
      "|         1|64.0|75.0|70.0|\n",
      "|         2|71.0|70.0|72.0|\n",
      "|         3|66.0|77.0|73.0|\n",
      "|         4|73.0|83.0|76.0|\n",
      "|         5|70.0|81.0|72.0|\n",
      "|         6|71.0|77.0|74.0|\n",
      "|         7|71.0|85.0|78.0|\n",
      "+----------+----+----+----+\n",
      "\n"
     ]
    }
   ],
   "source": [
    "sqlContext.sql('SELECT generation, ROUND(AVG(hp),0) AS HP, ROUND(AVG(attack),0) Att, ROUND(AVG(defense),0) AS Def FROM df_ GROUP BY generation ORDER BY generation').show(10)"
   ]
  },
  {
   "cell_type": "markdown",
   "metadata": {},
   "source": [
    "So yes, although there are some variations, the later generations are more powerful than the earlier generations."
   ]
  },
  {
   "cell_type": "markdown",
   "metadata": {},
   "source": [
    "### 7. How many legendary Pokémon are there?"
   ]
  },
  {
   "cell_type": "code",
   "execution_count": 22,
   "metadata": {},
   "outputs": [
    {
     "name": "stdout",
     "output_type": "stream",
     "text": [
      "+---------+\n",
      "|Legendary|\n",
      "+---------+\n",
      "|       70|\n",
      "+---------+\n",
      "\n"
     ]
    }
   ],
   "source": [
    "sqlContext.sql('SELECT COUNT(name) as Legendary FROM df_ WHERE is_legendary = 1').show(10)"
   ]
  },
  {
   "cell_type": "markdown",
   "metadata": {},
   "source": [
    "So we have 70 in total. Which is the easiest to capture?"
   ]
  },
  {
   "cell_type": "markdown",
   "metadata": {},
   "source": [
    "### 8. What is the easiest to capture legendary Pokémon?"
   ]
  },
  {
   "cell_type": "code",
   "execution_count": 23,
   "metadata": {},
   "outputs": [
    {
     "name": "stdout",
     "output_type": "stream",
     "text": [
      "+---------+------------+\n",
      "|     name|capture_rate|\n",
      "+---------+------------+\n",
      "|Pheromosa|         255|\n",
      "|  Kartana|         255|\n",
      "|   Cosmog|          45|\n",
      "| Rayquaza|          45|\n",
      "|  Cosmoem|          45|\n",
      "| Solgaleo|          45|\n",
      "| Nihilego|          45|\n",
      "|   Celebi|          45|\n",
      "|  Xerneas|          45|\n",
      "|   Lunala|          45|\n",
      "+---------+------------+\n",
      "only showing top 10 rows\n",
      "\n"
     ]
    }
   ],
   "source": [
    "sqlContext.sql('SELECT name, capture_rate FROM df_ WHERE is_legendary = 1 ORDER BY CAST(capture_rate AS int) DESC').show(10)"
   ]
  },
  {
   "cell_type": "markdown",
   "metadata": {},
   "source": [
    "255 is the maximum capture rate meaning both these Pokémon are 100% catch rates."
   ]
  },
  {
   "cell_type": "markdown",
   "metadata": {},
   "source": [
    "![alt text1](images/Pheromosa.png \"Pheromosa\") ![alt text2](images/Kartana.png \"Kartana\")"
   ]
  },
  {
   "cell_type": "markdown",
   "metadata": {},
   "source": [
    "These are pretty weird Pokémon. After reading up on them it appears they are immune to the normal balls and can only be captured with special balls. Presumably this is why they're 100% capture rate, it only applies under very specific circumstances."
   ]
  },
  {
   "cell_type": "markdown",
   "metadata": {},
   "source": [
    "### 9. Who is the strongest Pokemon for their weight?"
   ]
  },
  {
   "cell_type": "markdown",
   "metadata": {},
   "source": [
    "If we take the Pokémon's attack as their strength and divide by weight, we can sort to see which is the strongest based on their weight."
   ]
  },
  {
   "cell_type": "code",
   "execution_count": 24,
   "metadata": {},
   "outputs": [
    {
     "name": "stdout",
     "output_type": "stream",
     "text": [
      "+----------+----------+------+---------+\n",
      "|      name|AttPerKilo|attack|weight_kg|\n",
      "+----------+----------+------+---------+\n",
      "|   Kartana|    1810.0|   181|      0.1|\n",
      "|   Haunter|     500.0|    50|      0.1|\n",
      "|Wishiwashi|    466.67|   140|      0.3|\n",
      "|     Azelf|    416.67|   125|      0.3|\n",
      "|   Flabébé|     380.0|    38|      0.1|\n",
      "|   Mesprit|     350.0|   105|      0.3|\n",
      "|    Gastly|     350.0|    35|      0.1|\n",
      "|    Cosmog|     290.0|    29|      0.1|\n",
      "|      Uxie|     250.0|    75|      0.3|\n",
      "|  Cutiefly|     225.0|    45|      0.2|\n",
      "+----------+----------+------+---------+\n",
      "only showing top 10 rows\n",
      "\n"
     ]
    }
   ],
   "source": [
    "sqlContext.sql('SELECT name, ROUND(attack/weight_kg, 2) AS AttPerKilo, attack, weight_kg FROM df_ ORDER BY AttPerKilo DESC').show(10)"
   ]
  },
  {
   "cell_type": "markdown",
   "metadata": {},
   "source": [
    "We see Kartana again who is seems to have one of the max attacks for the smallest weight. Lets confirm that."
   ]
  },
  {
   "cell_type": "code",
   "execution_count": 25,
   "metadata": {},
   "outputs": [
    {
     "name": "stdout",
     "output_type": "stream",
     "text": [
      "+-----------+--------------+\n",
      "|max(attack)|min(weight_kg)|\n",
      "+-----------+--------------+\n",
      "|        185|           0.1|\n",
      "+-----------+--------------+\n",
      "\n"
     ]
    }
   ],
   "source": [
    "sqlContext.sql('SELECT MAX(attack), MIN(weight_kg) FROM df_ ORDER').show(10)"
   ]
  },
  {
   "cell_type": "markdown",
   "metadata": {},
   "source": [
    "Yup, lets see what the opposite side of it all is. Who has the weakest ratio and the max weight anad min attack."
   ]
  },
  {
   "cell_type": "markdown",
   "metadata": {},
   "source": [
    "### 10. Who is the weakest Pokémon for their weight?"
   ]
  },
  {
   "cell_type": "code",
   "execution_count": 26,
   "metadata": {},
   "outputs": [
    {
     "name": "stdout",
     "output_type": "stream",
     "text": [
      "+---------+----------+------+---------+\n",
      "|     name|AttPerKilo|attack|weight_kg|\n",
      "+---------+----------+------+---------+\n",
      "|   Raichu|      null|    85|     null|\n",
      "|  Diglett|      null|    55|     null|\n",
      "|Sandshrew|      null|    75|     null|\n",
      "|Sandslash|      null|   100|     null|\n",
      "|Ninetales|      null|    67|     null|\n",
      "+---------+----------+------+---------+\n",
      "only showing top 5 rows\n",
      "\n"
     ]
    }
   ],
   "source": [
    "sqlContext.sql('SELECT name, ROUND(attack/weight_kg, 2) AS AttPerKilo, attack, weight_kg FROM df_ ORDER BY AttPerKilo').show(5)"
   ]
  },
  {
   "cell_type": "markdown",
   "metadata": {},
   "source": [
    "These null entries aren't helping. Although they might be worth reading up on to see what is going on. Are these insubstantial Pokémon? If so we want physical ones! Lets add a WHERE NOT NULL clause for weight is concerned."
   ]
  },
  {
   "cell_type": "code",
   "execution_count": 27,
   "metadata": {},
   "outputs": [
    {
     "name": "stdout",
     "output_type": "stream",
     "text": [
      "+----------+----------+------+---------+\n",
      "|      name|AttPerKilo|attack|weight_kg|\n",
      "+----------+----------+------+---------+\n",
      "|   Cosmoem|      0.03|    29|    999.9|\n",
      "|Celesteela|       0.1|   101|    999.9|\n",
      "|  Guzzlord|      0.11|   101|    888.0|\n",
      "|  Mudsdale|      0.14|   125|    920.0|\n",
      "|   Chansey|      0.14|     5|     34.6|\n",
      "+----------+----------+------+---------+\n",
      "only showing top 5 rows\n",
      "\n"
     ]
    }
   ],
   "source": [
    "sqlContext.sql('SELECT name, ROUND(attack/weight_kg, 2) AS AttPerKilo, attack, weight_kg FROM df_ WHERE weight_kg IS NOT NULL ORDER BY AttPerKilo').show(5)"
   ]
  },
  {
   "cell_type": "markdown",
   "metadata": {},
   "source": [
    "![alt text1](images/Cosmoem.png \"Cosmoem\")"
   ]
  },
  {
   "cell_type": "markdown",
   "metadata": {},
   "source": [
    "Despite being a Pokémon, Cosmoem appears to be more of an egg. Apparently it cannot move or feed and just absorbs light. It does evole into some cool looking creatures eventually though hopefully make it worth the effort!"
   ]
  },
  {
   "cell_type": "markdown",
   "metadata": {},
   "source": [
    "-------------"
   ]
  },
  {
   "cell_type": "markdown",
   "metadata": {},
   "source": [
    "*c) Optional: you can also try to configure and execute RDD API part. If you implement 3 examples of transformation-action using RDD API you can get extra points.\n",
    "Clue: probably you will get an error which will be solvable with this:\n",
    "https://stackoverflow.com/a/50399085*"
   ]
  },
  {
   "cell_type": "code",
   "execution_count": 28,
   "metadata": {},
   "outputs": [],
   "source": [
    "rdd = sc.textFile(\"pokemon.csv\")"
   ]
  },
  {
   "cell_type": "code",
   "execution_count": 29,
   "metadata": {},
   "outputs": [
    {
     "data": {
      "text/plain": [
       "pyspark.rdd.RDD"
      ]
     },
     "execution_count": 29,
     "metadata": {},
     "output_type": "execute_result"
    }
   ],
   "source": [
    "type(rdd)"
   ]
  },
  {
   "cell_type": "code",
   "execution_count": 30,
   "metadata": {},
   "outputs": [
    {
     "data": {
      "text/plain": [
       "500"
      ]
     },
     "execution_count": 30,
     "metadata": {},
     "output_type": "execute_result"
    }
   ],
   "source": [
    "lineLengths = rdd.map(lambda s: len(s))\n",
    "lineLengths.first()"
   ]
  },
  {
   "cell_type": "code",
   "execution_count": 31,
   "metadata": {},
   "outputs": [],
   "source": [
    "totalLength = lineLengths.reduce(lambda a, b: a + b)"
   ]
  },
  {
   "cell_type": "code",
   "execution_count": 32,
   "metadata": {},
   "outputs": [
    {
     "data": {
      "text/plain": [
       "151660"
      ]
     },
     "execution_count": 32,
     "metadata": {},
     "output_type": "execute_result"
    }
   ],
   "source": [
    "totalLength"
   ]
  },
  {
   "cell_type": "markdown",
   "metadata": {},
   "source": [
    "**Part 2 (Tableau)**"
   ]
  },
  {
   "cell_type": "markdown",
   "metadata": {},
   "source": [
    "*a) Register for a free trial on Tableau web page. Watch Tableau introductory video:\n",
    "https://www.youtube.com/watch?v=GkJwcyI_1vc\n",
    "and follow the steps in the tutorial.*"
   ]
  },
  {
   "cell_type": "markdown",
   "metadata": {},
   "source": [
    "*b) Load into Tableau the same dataset you were using for Part 1 of this CA. Conduct visual analysis (i.e. generate charts to learn about the dataset). In half a page describe your experience with Tableau by comparing it to Spark and Python. List Tableau differences, advantages and disadvantages versus Spark and Python.\n",
    "Output: Half a page text. You can include graphics from your analysis.*"
   ]
  },
  {
   "cell_type": "markdown",
   "metadata": {},
   "source": [
    "When I was doing the analysis with Python I really felt I had control over what I was doing. If there was an option I needed, if I didn't already know it I was pretty sure I could find it with an online search. Tableau was a different beast. It was a lot easier to produce something straight away but I felt very limited in what I could do. There either was a menu option for it or there wasn't. I also found it a lot harder to work my way through tableau to find those options."
   ]
  },
  {
   "cell_type": "markdown",
   "metadata": {},
   "source": [
    "On the otherhand, it was a lot easier to produce an initial chart that it would have been for me if I had no experience with python. So the learning curve for a new beginner definitely is easier with Tableau than it is with Python. As [this](https://public.tableau.com/views/PokemonGenerations/Pokemon?:pixelratio=2&:showVizHome=no#4) example visualising the same dataset shows, advanced users of Tableau can get some amazing interactive charts."
   ]
  },
  {
   "cell_type": "markdown",
   "metadata": {},
   "source": [
    "My charts were less impressive. I was able to filter and sort and produce tables and barcharts. With python and SQL I was able to quickly produce these with minor changes to the line of code. With Tableau it was frustratingly longer requiring the same drag and drop and adjust. That said, having the data there in front of me rather than in the background waiting to be pulled out did give me a better understanding of the data. Where with SQL I needed to run a query to get an idea of the structure of the database, it was immediately evident with Tableau."
   ]
  },
  {
   "cell_type": "markdown",
   "metadata": {},
   "source": [
    "![alt text1](images/tableau_01_hp.png \"Tableau01\")"
   ]
  },
  {
   "cell_type": "markdown",
   "metadata": {},
   "source": [
    "![alt text1](images/tableau_02_flame.png \"Tableau02\")"
   ]
  },
  {
   "cell_type": "markdown",
   "metadata": {},
   "source": [
    "For my own use, I think I would have Tableau as a tool to examine the data initially and decide how I wanted to approach things. With Python charts, I found I created an initial chart and then spent a few goes revising things until I was happy, pre-doing this with Tableau would certainly be an advantage. I can definitely see the advantages in Tableau, but at $70 a month I'll be spending my energies getting more out of Python."
   ]
  },
  {
   "cell_type": "markdown",
   "metadata": {},
   "source": [
    "**Differences between Tableau and Python**"
   ]
  },
  {
   "cell_type": "markdown",
   "metadata": {},
   "source": [
    "This [webpage](https://www.stoltzmaniac.com/tool-selection-python-tableau-r/) has a decent summary, but here are the highlights."
   ]
  },
  {
   "cell_type": "markdown",
   "metadata": {},
   "source": [
    "* Tableau is for quick insights, it has easy geospacial features, it is not great for nested data sources, NoSQL databases, web scraping, and anything requested via https. It is not cheap."
   ]
  },
  {
   "cell_type": "markdown",
   "metadata": {},
   "source": [
    "* Python is the hard way of doing things and will take longer. It is better at data cleaning and handling a variety of data sources that Tableau (despite having lots of sources) just can't handle. Python can perform complex calculations like machine learning which Tableau cannot do. It is better suited to live data and repeated requests as data chain can be created. PySpark also gives access to the greater Hadoop ecosystem which allows big data processing that wouldn't be available for Tableau."
   ]
  },
  {
   "cell_type": "markdown",
   "metadata": {},
   "source": [
    "Interestingly, there was a TabPy project allowing Python code to run within Tableau. To an extend, Tableau could be seen as just another library. The data is extracted and cleaned with Python and exported into a format Tableau can read for doing exploration or specific charts taht Tableau does well."
   ]
  },
  {
   "cell_type": "code",
   "execution_count": null,
   "metadata": {},
   "outputs": [],
   "source": []
  }
 ],
 "metadata": {
  "kernelspec": {
   "display_name": "Python 3",
   "language": "python",
   "name": "python3"
  },
  "language_info": {
   "codemirror_mode": {
    "name": "ipython",
    "version": 3
   },
   "file_extension": ".py",
   "mimetype": "text/x-python",
   "name": "python",
   "nbconvert_exporter": "python",
   "pygments_lexer": "ipython3",
   "version": "3.6.5"
  }
 },
 "nbformat": 4,
 "nbformat_minor": 2
}
